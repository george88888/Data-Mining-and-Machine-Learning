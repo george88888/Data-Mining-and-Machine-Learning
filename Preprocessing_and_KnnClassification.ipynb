{
  "nbformat": 4,
  "nbformat_minor": 0,
  "metadata": {
    "colab": {
      "name": "Preprocessing_and_KnnClassification.ipynb",
      "provenance": [],
      "collapsed_sections": [],
      "include_colab_link": true
    },
    "kernelspec": {
      "name": "python3",
      "display_name": "Python 3"
    }
  },
  "cells": [
    {
      "cell_type": "markdown",
      "metadata": {
        "id": "view-in-github",
        "colab_type": "text"
      },
      "source": [
        "<a href=\"https://colab.research.google.com/github/george88888/Data-Mining-and-Machine-Learning/blob/master/Preprocessing_and_KnnClassification.ipynb\" target=\"_parent\"><img src=\"https://colab.research.google.com/assets/colab-badge.svg\" alt=\"Open In Colab\"/></a>"
      ]
    },
    {
      "cell_type": "code",
      "metadata": {
        "id": "oMmEOTTWNkuA",
        "colab_type": "code",
        "colab": {}
      },
      "source": [
        "%matplotlib inline\n",
        "import numpy \n",
        "import matplotlib\n",
        "import matplotlib.pyplot as plt"
      ],
      "execution_count": 0,
      "outputs": []
    },
    {
      "cell_type": "code",
      "metadata": {
        "id": "tWhTarH6N3YH",
        "colab_type": "code",
        "outputId": "68b43934-8a82-4701-9a9f-78f1dea27bcc",
        "colab": {
          "base_uri": "https://localhost:8080/",
          "height": 67
        }
      },
      "source": [
        "X = numpy.random.randn(10, 5)\n",
        "print (X[1,:])\n",
        "print (X[:, 1])"
      ],
      "execution_count": 0,
      "outputs": [
        {
          "output_type": "stream",
          "text": [
            "[-1.12294062 -0.80681231  0.31560445 -0.78557627 -0.22120653]\n",
            "[ 0.03869315 -0.80681231 -0.2519436   0.76538903 -0.77842728  0.03151713\n",
            " -0.87469014  1.21958643  0.00160522 -0.65089622]\n"
          ],
          "name": "stdout"
        }
      ]
    },
    {
      "cell_type": "markdown",
      "metadata": {
        "id": "T132aok__UQ_",
        "colab_type": "text"
      },
      "source": [
        "Next, lets $\\ell_1$ normalize each feature vector. For this purpose we must compute the sum of the absolute values in each feature vector and divide each element in the vector by the norm. $\\ell_1$ norm is defined as follows:\n",
        "\n",
        "$\\ell_1 (\\mathbf{x}) = \\sum_i |x_i|$"
      ]
    },
    {
      "cell_type": "code",
      "metadata": {
        "id": "UNWVPT-hOWTG",
        "colab_type": "code",
        "outputId": "91549bf4-f223-43a9-8da9-914ff4cdfb95",
        "colab": {
          "base_uri": "https://localhost:8080/",
          "height": 185
        }
      },
      "source": [
        "for i in range(0, 10):\n",
        "    print(i, numpy.sum(numpy.abs(X[i,:])))"
      ],
      "execution_count": 0,
      "outputs": [
        {
          "output_type": "stream",
          "text": [
            "0 3.2824188176477787\n",
            "1 3.252140177582553\n",
            "2 3.560915337841582\n",
            "3 4.862090959989583\n",
            "4 5.146237148136559\n",
            "5 3.802954397693445\n",
            "6 1.985144187627578\n",
            "7 2.8028333252051434\n",
            "8 3.4798872965928997\n",
            "9 4.186833213615184\n"
          ],
          "name": "stdout"
        }
      ]
    },
    {
      "cell_type": "markdown",
      "metadata": {
        "id": "YQek5eAO_URI",
        "colab_type": "text"
      },
      "source": [
        "Now lets compute $\\ell_2$ norms instead. We need to compute the squares, add them and take the square root for this."
      ]
    },
    {
      "cell_type": "code",
      "metadata": {
        "id": "HnC6ErPBOazO",
        "colab_type": "code",
        "outputId": "e35172d6-6e12-41f4-b917-b079b433f121",
        "colab": {
          "base_uri": "https://localhost:8080/",
          "height": 185
        }
      },
      "source": [
        "for i in range(0, 10):\n",
        "    print (i, numpy.sqrt(numpy.sum(X[i,:] * X[i,:])))"
      ],
      "execution_count": 0,
      "outputs": [
        {
          "output_type": "stream",
          "text": [
            "0 1.8528285194395113\n",
            "1 1.636340522170592\n",
            "2 1.8374226321634468\n",
            "3 2.559671686352667\n",
            "4 2.4797014822793795\n",
            "5 2.2694374988295802\n",
            "6 1.0627060065452505\n",
            "7 1.6401301448474421\n",
            "8 2.765051110749676\n",
            "9 2.005030185450553\n"
          ],
          "name": "stdout"
        }
      ]
    },
    {
      "cell_type": "markdown",
      "metadata": {
        "id": "WuCM2eE__URR",
        "colab_type": "text"
      },
      "source": [
        "If you wanted to $\\ell_2$ normalize X then this can be done as follows. "
      ]
    },
    {
      "cell_type": "code",
      "metadata": {
        "id": "sLvyimQdTTFY",
        "colab_type": "code",
        "outputId": "750840dc-df72-429a-a7a7-8da02a10fd99",
        "colab": {
          "base_uri": "https://localhost:8080/",
          "height": 353
        }
      },
      "source": [
        "def row_normalize(X):\n",
        "  for i in range(0,10):\n",
        "      norm = numpy.sqrt(numpy.sum(X[i,:] * X[i,:]))\n",
        "      X[i,:] = X[i,:] / norm\n",
        "  return X\n",
        "\n",
        "norm_X = normalize(X)\n",
        "print(norm_X)"
      ],
      "execution_count": 0,
      "outputs": [
        {
          "output_type": "stream",
          "text": [
            "[[ 6.53994472e-01  2.08832885e-02  6.22333734e-01  4.26978716e-01\n",
            "  -4.73816229e-02]\n",
            " [-6.86251181e-01 -4.93058933e-01  1.92872112e-01 -4.80081167e-01\n",
            "  -1.35183678e-01]\n",
            " [ 1.05015072e-01 -1.37117939e-01  4.78411260e-01  6.18734926e-01\n",
            "   5.98715511e-01]\n",
            " [-7.27246499e-01  2.99018439e-01 -4.56703168e-01 -4.16079941e-01\n",
            "   4.49841023e-04]\n",
            " [ 6.75195013e-01 -3.13919754e-01  5.48650051e-01  2.73925735e-01\n",
            "  -2.63654881e-01]\n",
            " [ 2.93119659e-01  1.38876409e-02  2.80306937e-01 -8.92771595e-01\n",
            "   1.95639716e-01]\n",
            " [-4.51529519e-01 -8.23078191e-01  1.72479341e-01 -1.97680099e-01\n",
            "  -2.23241665e-01]\n",
            " [ 6.09333114e-01  7.43591251e-01 -2.14194931e-02 -6.88969915e-02\n",
            "   2.65668248e-01]\n",
            " [-9.77914004e-01  5.80538926e-04 -2.01398455e-01 -3.53797258e-02\n",
            "  -4.32527643e-02]\n",
            " [ 3.07649705e-01 -3.24631631e-01  6.85616230e-01  5.14053367e-01\n",
            "  -2.56213745e-01]]\n"
          ],
          "name": "stdout"
        }
      ]
    },
    {
      "cell_type": "code",
      "metadata": {
        "id": "eE4497H9WQY4",
        "colab_type": "code",
        "colab": {}
      },
      "source": [
        "for i in range(0,10):\n",
        "  row_norm = (numpy.sqrt(numpy.sum(X[i,:] * X[i,:])))\n",
        "  assert row_norm >= (1. - 1e-8) or row_norm <= (1. + 1e-8) "
      ],
      "execution_count": 0,
      "outputs": []
    },
    {
      "cell_type": "markdown",
      "metadata": {
        "id": "tf0lwCir_URl",
        "colab_type": "text"
      },
      "source": [
        "Let us assume that we further wish to scale each feature (dimension) to [0,1] range using (x - min) / (max - min) method (see the lecture notes for details). We need to find the min and max for each feature across all feature vectors. This turns out to be computing the min and max for each column in X. Guess what, numpy has min and max functions that return the min and max values of an array. How convenient... "
      ]
    },
    {
      "cell_type": "code",
      "metadata": {
        "id": "xiSnuw0Pc8df",
        "colab_type": "code",
        "outputId": "5bb21551-9c9c-421f-8671-6fc028aa2b53",
        "colab": {
          "base_uri": "https://localhost:8080/",
          "height": 185
        }
      },
      "source": [
        "for j in range(0, 5):\n",
        "    minVal = numpy.min(X[:,j])\n",
        "    maxVal = numpy.max(X[:,j])\n",
        "    for i in range(0, 10):\n",
        "        X[i,j] = (X[i,j] - minVal) / (maxVal - minVal)\n",
        "        \n",
        "print (X)"
      ],
      "execution_count": 0,
      "outputs": [
        {
          "output_type": "stream",
          "text": [
            "[[0.98717535 0.53869786 0.94460175 0.8731357  0.25078929]\n",
            " [0.1764329  0.21065022 0.56864593 0.27303252 0.14897451]\n",
            " [0.6550863  0.43784619 0.8186103  1.         1.        ]\n",
            " [0.15163398 0.71623062 0.         0.31537519 0.30625439]\n",
            " [1.         0.32499417 0.88009818 0.77187714 0.        ]\n",
            " [0.76887468 0.53423256 0.64518742 0.         0.53259551]\n",
            " [0.31842091 0.         0.55079386 0.45986669 0.04686294]\n",
            " [0.96015877 1.         0.38105251 0.54506851 0.61380021]\n",
            " [0.         0.52573868 0.22349679 0.56724325 0.25557709]\n",
            " [0.77766421 0.31815682 1.         0.93074356 0.0086287 ]]\n"
          ],
          "name": "stdout"
        }
      ]
    },
    {
      "cell_type": "markdown",
      "metadata": {
        "id": "9a8BMSmpdJjC",
        "colab_type": "text"
      },
      "source": [
        "OK! Everything is in [0,1] now. One thing to remember is that **if min and max are the same then the division during the scaling will be illegal**. If this is the case then **it means all values of that feature are the same**. So you can **either set it to 0 or 1**, as you wish as long as it is consistent. Of course, if a feature has the same value across all train instances then it is not a useful feature because it does not discriminate the different classes. So you can even remove that feature from your train data and be happy about it (one less feature to worry about).\n",
        "\n"
      ]
    },
    {
      "cell_type": "markdown",
      "metadata": {
        "id": "6ZJTlmOwdmuj",
        "colab_type": "text"
      },
      "source": [
        "Let us assume that we wanted to do Gaussain scaling (see lecture notes) on this X. Here, we would use (x - mean) / sd, where sd is the standard deviation of the feature values. Not very surprisingly numpy has numpy.mean and numpy.std functions that do exactly this. I guess at this point I can convince you why you should use python+numpy for data mining and machine learning.\n",
        "\n"
      ]
    },
    {
      "cell_type": "code",
      "metadata": {
        "id": "WGqbxKV7de9J",
        "colab_type": "code",
        "colab": {}
      },
      "source": [
        "for j in range(0, 5):\n",
        "    mean = numpy.mean(X[:,j])\n",
        "    sd = numpy.std(X[:,j])\n",
        "    for i in range(0, 10):\n",
        "        X[i,j] = (X[i,j] - mean) / sd"
      ],
      "execution_count": 0,
      "outputs": []
    },
    {
      "cell_type": "code",
      "metadata": {
        "id": "UtBVu85IefZB",
        "colab_type": "code",
        "colab": {}
      },
      "source": [
        ""
      ],
      "execution_count": 0,
      "outputs": []
    },
    {
      "cell_type": "code",
      "metadata": {
        "id": "XifFhvNuefqh",
        "colab_type": "code",
        "colab": {}
      },
      "source": [
        ""
      ],
      "execution_count": 0,
      "outputs": []
    },
    {
      "cell_type": "markdown",
      "metadata": {
        "id": "hjvXsZ8dejFq",
        "colab_type": "text"
      },
      "source": [
        "# K-Nearest Neighbor Classification\n",
        "\n",
        "With the data normalization primer, we now move onto using these preprocessing steps to pass inputs to a classifier that can discriminate between two classes"
      ]
    },
    {
      "cell_type": "markdown",
      "metadata": {
        "id": "ylHmwoDQeb2u",
        "colab_type": "text"
      },
      "source": [
        "This example shows how to use k-NN classifier to classify a dataset. We will first generate a binary classification dataset consisitng of 2D feature vectors, randomly sampled from two Gaussian distributions. We will then learn a k-NN classifier to separate the two classes.\n"
      ]
    },
    {
      "cell_type": "code",
      "metadata": {
        "id": "EIsmwwMsedfN",
        "colab_type": "code",
        "colab": {}
      },
      "source": [
        "N = 5\n",
        "pos = numpy.random.multivariate_normal([0,0], [[1,0],[0,1]], 2 * N)\n",
        "neg = numpy.random.multivariate_normal([2,2], [[1,0],[0,1]], 2 * N)"
      ],
      "execution_count": 0,
      "outputs": []
    },
    {
      "cell_type": "code",
      "metadata": {
        "id": "BRvg02lAe8pF",
        "colab_type": "code",
        "outputId": "f72c1c29-7ec2-4007-9782-02c5dbd77118",
        "colab": {
          "base_uri": "https://localhost:8080/",
          "height": 282
        }
      },
      "source": [
        "plt.scatter(neg[:,0], neg[:,1], c='r')\n",
        "plt.scatter(pos[:,0], pos[:,1], c='b')"
      ],
      "execution_count": 0,
      "outputs": [
        {
          "output_type": "execute_result",
          "data": {
            "text/plain": [
              "<matplotlib.collections.PathCollection at 0x7f7dd1db0898>"
            ]
          },
          "metadata": {
            "tags": []
          },
          "execution_count": 20
        },
        {
          "output_type": "display_data",
          "data": {
            "image/png": "[encoded data removed]",
            "text/plain": [
              "<Figure size 432x288 with 1 Axes>"
            ]
          },
          "metadata": {
            "tags": []
          }
        }
      ]
    },
    {
      "cell_type": "markdown",
      "metadata": {
        "id": "WWC7LWuVfRps",
        "colab_type": "text"
      },
      "source": [
        "We now split the positive and negative samples into N training samples and N test samples (i.e 50-50 split)"
      ]
    },
    {
      "cell_type": "code",
      "metadata": {
        "id": "orqzKAmKfXrv",
        "colab_type": "code",
        "colab": {}
      },
      "source": [
        "train_pos = pos[:N,:]\n",
        "test_pos = pos[N:,:]\n",
        "train_neg = neg[:N,:]\n",
        "test_neg = neg[:N,:]"
      ],
      "execution_count": 0,
      "outputs": []
    },
    {
      "cell_type": "markdown",
      "metadata": {
        "id": "mcAD-BlffrZU",
        "colab_type": "text"
      },
      "source": [
        "Lets assign pos (+1) and neg (-1) labels to our train and test instances.\n"
      ]
    },
    {
      "cell_type": "code",
      "metadata": {
        "id": "kzB1860-fnvm",
        "colab_type": "code",
        "colab": {}
      },
      "source": [
        "train_data = [(1, x) for x in train_pos]\n",
        "train_data.extend([(-1, x) for x in train_neg])\n",
        "\n",
        "test_data = [(1, x) for x in test_pos]\n",
        "test_data.extend([(-1, x) for x in test_neg])"
      ],
      "execution_count": 0,
      "outputs": []
    },
    {
      "cell_type": "code",
      "metadata": {
        "id": "iN-WUicYf5Gl",
        "colab_type": "code",
        "colab": {}
      },
      "source": [
        "print (train_data)\n",
        "print (test_data)"
      ],
      "execution_count": 0,
      "outputs": []
    },
    {
      "cell_type": "markdown",
      "metadata": {
        "id": "u2mB_o0LgDaX",
        "colab_type": "text"
      },
      "source": [
        "Below we implement a k-NN function that uses the cosine similarity function compute the similarity scores between k-neighbouring samples.\n",
        "\n",
        "\n"
      ]
    },
    {
      "cell_type": "code",
      "metadata": {
        "id": "56nSssYef-ZC",
        "colab_type": "code",
        "colab": {}
      },
      "source": [
        "def sim(p, q):\n",
        "    score = numpy.dot(p,q) / (numpy.linalg.norm(p) * numpy.linalg.norm(q))\n",
        "    return score\n",
        "\n",
        "def predict(x, k):\n",
        "    L = [(y, sim(x, z)) for (y,z) in train_data]\n",
        "    L.sort(key=lambda tup: tup[1], reverse = True)  # sorts in place    \n",
        "    #print L[:k]\n",
        "    score = sum([e[0] for e in L[:k]])\n",
        "    if score > 0:\n",
        "        return 1\n",
        "    else:\n",
        "        return -1"
      ],
      "execution_count": 0,
      "outputs": []
    },
    {
      "cell_type": "markdown",
      "metadata": {
        "id": "Eu-50HKQgi8G",
        "colab_type": "text"
      },
      "source": [
        "Take a moment to study the predict function. k-NN happens here. We are given k and the instance to be classified, x. The first thing we do is computing the similarity scores between x and each instance z in our train dataset. We must also store the labels so that we can later find the majority label.\n",
        "\n",
        "Next, we need to find the neighbours. For that we sort this list of tuples by the value of the second item in tuples, which is similarity. lambda expressions are convenient ways to write in-place functions. Here, we take two elements from our list, compare their similarity scores and return -1 or +1. The sort function will then use this to sort the list. In this case, it will sort in the descending order of similarity scores.\n",
        "\n",
        "If you would like to confirm that it is indeed the descending order you can print the list after sorting (uncomment that line).\n",
        "\n",
        "Next, we must find the majority label. Since we are doing binary classification and our labels are -1 and +1, when we add the labels for the nearest neigbours if we get a positive value then there must be more +1s than -1s, vice versa. You might have to do more complicated stuff for finding the majority label if there were more than 2 classes. But it is easy for the binary case as shown here"
      ]
    },
    {
      "cell_type": "markdown",
      "metadata": {
        "id": "X_kD43hRgvGi",
        "colab_type": "text"
      },
      "source": [
        "Lets compute the accuracy of our k-NN classifier.\n"
      ]
    },
    {
      "cell_type": "code",
      "metadata": {
        "id": "wfgtTGtigvt5",
        "colab_type": "code",
        "outputId": "4123d6ff-0beb-4b87-f5ec-5f85f83b6c92",
        "colab": {
          "base_uri": "https://localhost:8080/",
          "height": 34
        }
      },
      "source": [
        "corrects = 0\n",
        "k = 5\n",
        "for (y,x) in test_data:\n",
        "    if y == predict(x, k):\n",
        "        corrects += 1\n",
        "accuracy = float(corrects) / float(len(test_data))\n",
        "print (\"Accuracy =\", accuracy)"
      ],
      "execution_count": 0,
      "outputs": [
        {
          "output_type": "stream",
          "text": [
            "Accuracy = 0.6\n"
          ],
          "name": "stdout"
        }
      ]
    },
    {
      "cell_type": "markdown",
      "metadata": {
        "id": "MWoB_tlonitK",
        "colab_type": "text"
      },
      "source": [
        "So we have a decent? classifier here. Try the following things:\n",
        "* change the value of k\n",
        "* increase the number of instances N\n",
        "* separate or bring together the two classes by adjusting the means of the two Gaussians.\n",
        "\n",
        "How does the accuracy vary in each case?"
      ]
    }
  ]
}